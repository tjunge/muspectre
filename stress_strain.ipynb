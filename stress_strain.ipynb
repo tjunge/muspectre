{
 "cells": [
  {
   "cell_type": "code",
   "execution_count": 1,
   "metadata": {
    "autoscroll": false,
    "collapsed": false,
    "ein.hycell": false,
    "ein.tags": "worksheet-0",
    "slideshow": {
     "slide_type": "-"
    }
   },
   "outputs": [],
   "source": [
    "import numpy as np\n",
    "import matplotlib.pyplot as plt\n",
    "import matplotlib as mpl\n",
    "%matplotlib inline\n",
    "import sys\n",
    "sys.path.append(\"./build-clang-5.0-dbg/language_bindings/python/\")\n",
    "\n",
    "from numpy.linalg import norm\n",
    "import muSpectre as µ"
   ]
  },
  {
   "cell_type": "code",
   "execution_count": null,
   "metadata": {
    "autoscroll": false,
    "collapsed": false,
    "ein.hycell": false,
    "ein.tags": "worksheet-0",
    "slideshow": {
     "slide_type": "-"
    }
   },
   "outputs": [],
   "source": [
    "def curve(delta_t, tau_y0 = 200e6,     m_par = .02, gamma_dot0=.1,     h0 = 0e9 ,   a_par = 0,         max_shear = 10e-2):\n",
    "    bulk_m = 175e9;\n",
    "    shear_m = 120e9;\n",
    "\n",
    "    delta_tau_y = 100e6;\n",
    "    q_n = 1.4;\n",
    "    #delta_t = 1e-4;\n",
    "    tolerance=1e-12\n",
    "    dirs = np.array([[1., 0.]])\n",
    "    norms = np.array([[0., 1.]])\n",
    "    resolution = [1,1]\n",
    "    lengths = [1, 1]\n",
    "    formulation = µ.Formulation.finite_strain\n",
    "\n",
    "    cell = µ.Cell(resolution,\n",
    "                  lengths,\n",
    "                  formulation)\n",
    "    dim = len(lengths)\n",
    "\n",
    "    crystal = True\n",
    "    if crystal:\n",
    "        mat = µ.material.MaterialCrystalPlasticityFinite_2d_1slip.make(\n",
    "            cell, \"crystal\", bulk_m, shear_m, gamma_dot0, m_par, tau_y0, h0, delta_tau_y, a_par, q_n, dirs, norms, delta_t, tolerance=tolerance)\n",
    "    else:\n",
    "        mat = µ.material.MaterialHyperElastoPlastic1_2d.make(\n",
    "            cell, \"hyper-elasto-plastic\", 210e9, .3, tau_y0, h0)\n",
    "\n",
    "    for pixel in cell:\n",
    "        if crystal:\n",
    "            mat.add_pixel(pixel, np.array([[0.]]))\n",
    "        else:\n",
    "            mat.add_pixel(pixel)\n",
    "\n",
    "        cell.initialise()\n",
    "\n",
    "        tau = list()\n",
    "        sigma_xx=list()\n",
    "        gammas=list()\n",
    "        tau_inc = list()\n",
    "        gamma_dot = list()\n",
    "        shear_incr = 1.e-4\n",
    "        np_load = int(max_shear/shear_incr)\n",
    "        F = np.eye(2)\n",
    "\n",
    "        for step in range(np_load):\n",
    "            F[0,1] += shear_incr\n",
    "            gammas.append(F[0,1])\n",
    "\n",
    "            stress = cell.evaluate_stress(F.T.reshape(-1))\n",
    "            mat.save_history_variables()\n",
    "            tau.append(stress[2])\n",
    "            sigma_xx.append(stress[0])\n",
    "            tau_inc.append(mat.get_real_field(\"dummy τ_inc\"))\n",
    "            gamma_dot.append(mat.get_real_field(\"dummy γ_dot\"))\n",
    "            #print(\"gamma = np.array([{}])\".format(\", \".join(\n",
    "                #    (\"{}\".format(g) for g in gammas))))\n",
    "            #print(\"tau = np.array([{}])\".format(\", \".join(\n",
    "                #    (\"{}\".format(t) for t in tau))))\n",
    "\n",
    "    tau_inc = np.array(tau_inc).reshape(-1)\n",
    "    gamma_dot = np.array(gamma_dot).reshape(-1)\n",
    "    gammas = np.array(gammas).reshape(-1)\n",
    "    tau = np.array(tau)\n",
    "\n",
    "    return gammas, tau, gamma_dot, tau_inc\n",
    "tau_y0 = 200e6;\n",
    "for dt in (1e-3, 1e-4, 1e-5):\n",
    "    gammas, tau, gamma_dot, tau_inc = curve(dt, tau_y0, m_par = .03)\n",
    "    tg_bar = (tau_inc/gamma_dot).mean()\n",
    "    tg_std = (tau_inc/gamma_dot).std()\n",
    "\n",
    "    plt.plot(gammas, tau, label=\"Δt = {:.0e}, <τᵅ/γ_dot>= {:.2e} ± {:.1e}\".format(dt, tg_bar, tg_std))\n",
    "    pass\n",
    "plt.legend(loc='best')\n",
    "plt.xlabel('ε₁₂')\n",
    "plt.ylabel('γ₁₂');\n",
    "\n",
    "\n"
   ]
  },
  {
   "cell_type": "code",
   "execution_count": null,
   "metadata": {
    "autoscroll": false,
    "collapsed": false,
    "ein.hycell": false,
    "ein.tags": "worksheet-0",
    "slideshow": {
     "slide_type": "-"
    }
   },
   "outputs": [],
   "source": [
    "tau_y0 = 200e6;\n",
    "for dt in (1e-3, 1e-4, 1e-5):\n",
    "    gammas, tau, gamma_dot, tau_inc = curve(dt, tau_y0, m_par = .1, gamma_dot0 =1e-4/dt, h0=1000e9, a_par = 1.5, max_shear=10e-2)\n",
    "    tg_bar = (tau_inc/gamma_dot).mean()\n",
    "    tg_std = (tau_inc/gamma_dot).std()\n",
    "\n",
    "    plt.plot(gammas, tau, label=\"Δt = {:.0e}, <τᵅ/γ_dot>= {:.2e} ± {:.1e}\".format(dt, tg_bar, tg_std))\n",
    "    pass\n",
    "    print(tau.max())\n",
    "plt.legend(loc='best')\n",
    "plt.xlabel('ε₁₂')\n",
    "plt.grid(True)\n",
    "plt.ylabel('γ₁₂');\n"
   ]
  },
  {
   "cell_type": "code",
   "execution_count": null,
   "metadata": {
    "autoscroll": false,
    "collapsed": false,
    "ein.hycell": false,
    "ein.tags": "worksheet-0",
    "slideshow": {
     "slide_type": "-"
    }
   },
   "outputs": [],
   "source": [
    "tau_y0 = 200e6;\n",
    "for dt in (1e-3, 1e-4, 1e-5):\n",
    "    gammas, tau, gamma_dot, tau_inc = curve(dt, tau_y0, m_par = .03)\n",
    "    tg_bar = (gamma_dot/.1).mean()\n",
    "    tg_std = (gamma_dot/.1).std()\n",
    "\n",
    "    ##plt.plot(gammas, tau, label=\"Δt = {:.0e}, <τᵅ/γ_dot>= {:.2e} ± {:.1e}\".format(dt, tg_bar, tg_std))\n",
    "    plt.plot(gammas, gamma_dot/.1, label=\"Δt = {:.0e}, <τᵅ/γ_dot>= {:.2e} ± {:.1e}\".format(dt, tg_bar, tg_std))\n",
    "    pass\n",
    "plt.legend(loc='best')\n",
    "plt.xlabel('ε₁₂')\n",
    "plt.ylabel('γ_dot');\n",
    "plt.figure()\n",
    "plt.plot(tau_inc/gamma_dot)"
   ]
  },
  {
   "cell_type": "code",
   "execution_count": null,
   "metadata": {
    "autoscroll": false,
    "collapsed": false,
    "ein.hycell": false,
    "ein.tags": "worksheet-0",
    "slideshow": {
     "slide_type": "-"
    }
   },
   "outputs": [],
   "source": [
    "tau_y0 = 200e6;\n",
    "gamma_dot_default=.1\n",
    "for dt in (1e-3, 1e-4, 1e-5):\n",
    "    gammas, tau, gamma_dot, tau_inc = curve(dt, tau_y0, m_par = .5 , gamma_dot0=1e-2)\n",
    "    tg_bar = (gamma_dot/.1).mean()\n",
    "    tg_std = (gamma_dot/.1).std()\n",
    "\n",
    "    ##plt.plot(gammas, tau, label=\"Δt = {:.0e}, <τᵅ/γ_dot>= {:.2e} ± {:.1e}\".format(dt, tg_bar, tg_std))\n",
    "    plt.plot(gammas, gamma_dot/.1, label=\"Δt = {:.0e}, <τᵅ/γ_dot>= {:.2e} ± {:.1e}\".format(dt, tg_bar, tg_std))\n",
    "    pass\n",
    "plt.legend(loc='best')\n",
    "plt.xlabel('ε₁₂')\n",
    "plt.ylabel('γ_dot');\n"
   ]
  },
  {
   "cell_type": "code",
   "execution_count": null,
   "metadata": {
    "autoscroll": false,
    "collapsed": false,
    "ein.hycell": false,
    "ein.tags": "worksheet-0",
    "slideshow": {
     "slide_type": "-"
    }
   },
   "outputs": [],
   "source": [
    "tau = np.array((.99681e+08,\n",
    "    3.06304e+08,\n",
    "    3.13596e+08,\n",
    "    3.1911e+08 ,\n",
    "    3.25063e+08,\n",
    "    3.29757e+08,\n",
    "    3.34694e+08,\n",
    "    3.38743e+08,\n",
    "    3.42899e+08,\n",
    "    3.46425e+08))\n",
    "tau = np.array([2.22542e+08, 2.78801e+08, 2.62275e+08, 2.73714e+08, 2.67101e+08, 2.7146e+08, 2.68786e+08, 2.70508e+08, 2.69431e+08, 2.70117e+08, 2.69684e+08, 2.69958e+08, 2.69784e+08, 2.69894e+08, 2.69824e+08, 2.69868e+08, 2.69839e+08, 2.69857e+08, 2.69845e+08, 2.69852e+08, 2.69847e+08, 2.6985e+08, 2.69847e+08, 2.69848e+08, 2.69847e+08])\n",
    "\n",
    "\n",
    "\n",
    "plt.plot(tau)\n"
   ]
  },
  {
   "cell_type": "code",
   "execution_count": null,
   "metadata": {
    "autoscroll": false,
    "collapsed": false,
    "ein.hycell": false,
    "ein.tags": "worksheet-0",
    "slideshow": {
     "slide_type": "-"
    }
   },
   "outputs": [],
   "source": [
    "gamma = np.array([0.005, 0.010000000000000002, 0.015000000000000003, 0.020000000000000004, 0.025000000000000005, 0.030000000000000006, 0.035, 0.04, 0.045000000000000005, 0.05])\n",
    "tau = np.array([296130891.4393467, 295450799.7219975, 296024844.9454069, 295554586.12864435, 295940972.1918171, 295624237.6484094, 295884371.1672535, 295671061.16190904, 295846202.27996933, 295702553.6179742])\n",
    "plt.plot(gamma, tau)"
   ]
  },
  {
   "cell_type": "code",
   "execution_count": null,
   "metadata": {
    "autoscroll": false,
    "collapsed": false,
    "ein.hycell": false,
    "ein.tags": "worksheet-0",
    "slideshow": {
     "slide_type": "-"
    }
   },
   "outputs": [],
   "source": [
    "def fun18(t, m=.1, s=1., gamma_dot0=.1):\n",
    "    return gamma_dot0 * (abs(t)/s)**(1/m)*np.sign(t)\n",
    "\n",
    "tau = np.linspace(-2, 2)\n",
    "plt.plot(tau, fun18(tau))"
   ]
  },
  {
   "cell_type": "code",
   "execution_count": null,
   "metadata": {
    "autoscroll": false,
    "collapsed": false,
    "ein.hycell": false,
    "ein.tags": "worksheet-0",
    "slideshow": {
     "slide_type": "-"
    }
   },
   "outputs": [],
   "source": [
    "def fun19(gamma_dot, tau_star=2, delta_t = .1, young_schmid = 2):\n",
    "    return tau_star - delta_t*gamma_dot*young_schmid\n",
    "gamma_dot = np.linspace(-100, 100)\n",
    "plt.plot(gamma_dot, fun19(gamma_dot))"
   ]
  },
  {
   "cell_type": "code",
   "execution_count": null,
   "metadata": {
    "autoscroll": false,
    "collapsed": false,
    "ein.hycell": false,
    "ein.tags": "worksheet-0",
    "slideshow": {
     "slide_type": "-"
    }
   },
   "outputs": [],
   "source": [
    "def residual(gamma_dot, gamma_dot0=.1, tau_star=2, delta_t=.1, young_schmid=2, s=1, m=.1):\n",
    "    tau = fun19(gamma_dot, tau_star, delta_t, young_schmid)\n",
    "    return gamma_dot - fun18(tau, m, s, gamma_dot0)\n",
    "\n",
    "def residual_jac(gamma_dot, gamma_dot0=.1, tau_star=2, delta_t=.1, young_schmid=2, s=1, m=.1):\n",
    "    tau = fun19(gamma_dot, tau_star, delta_t, young_schmid)\n",
    "    return 1.-.5*delta_t*gamma_dot0/m*abs(tau)**((1-m)/m)*s**(-1/m)*young_schmid*np.sign(tau)\n",
    "gamma_dot = np.linspace(-2, 23)\n",
    "plt.plot(gamma_dot, residual(gamma_dot), label=\"γ_dot = .1\")\n",
    "plt.plot(gamma_dot, residual(gamma_dot, gamma_dot0=.01), label=\"γ_dot = .01\")\n",
    "plt.legend()"
   ]
  },
  {
   "cell_type": "code",
   "execution_count": null,
   "metadata": {
    "autoscroll": false,
    "collapsed": false,
    "ein.hycell": false,
    "ein.tags": "worksheet-0",
    "slideshow": {
     "slide_type": "-"
    }
   },
   "outputs": [],
   "source": [
    "def load_to_a_point(delta_t=1e-3,\n",
    "                    tau_y0 = 200e6,\n",
    "                    m_par = .1,\n",
    "                    gamma_dot0=.1,\n",
    "                    h0 = 0e9 ,\n",
    "                    a_par = 0,\n",
    "                    max_shear = 10e-2):\n",
    "    bulk_m = 175e9;\n",
    "    shear_m = 120e9;\n",
    "\n",
    "    delta_tau_y = 100e6;\n",
    "    q_n = 1.4;\n",
    "    #delta_t = 1e-4;\n",
    "    tolerance=1e-12\n",
    "    dirs = np.array([[1., 0.]])\n",
    "    norms = np.array([[0., 1.]])\n",
    "    resolution = [1,1]\n",
    "    lengths = [1, 1]\n",
    "    formulation = µ.Formulation.finite_strain\n",
    "\n",
    "    cell = µ.Cell(resolution,\n",
    "                  lengths,\n",
    "                  formulation)\n",
    "    dim = len(lengths)\n",
    "\n",
    "    mat = µ.material.MaterialCrystalPlasticityFinite_2d_1slip.make(\n",
    "        cell, \"crystal\", bulk_m, shear_m, gamma_dot0, m_par, tau_y0, h0, delta_tau_y, a_par, q_n, dirs, norms, delta_t, tolerance=tolerance)\n",
    "\n",
    "    for pixel in cell:\n",
    "        mat.add_pixel(pixel, np.array([[0.]]))\n",
    "\n",
    "        cell.initialise()\n",
    "\n",
    "        tau = list()\n",
    "        sigma_xx=list()\n",
    "        gammas=list()\n",
    "        tau_inc = list()\n",
    "        gamma_dot = list()\n",
    "        shear_incr = 1.e-4\n",
    "        np_load = int(max_shear/shear_incr)\n",
    "        F = np.eye(2)\n",
    "\n",
    "        for step in range(np_load):\n",
    "            F[0,1] += shear_incr\n",
    "            gammas.append(F[0,1])\n",
    "\n",
    "            stress = cell.evaluate_stress(F.T.reshape(-1))\n",
    "            print(stress)\n",
    "            mat.save_history_variables()\n",
    "            tau.append(stress[2])\n",
    "            sigma_xx.append(stress[0])\n",
    "            tau_inc.append(mat.get_real_field(\"dummy τ_inc\"))\n",
    "            gamma_dot.append(mat.get_real_field(\"dummy γ_dot\"))\n",
    "            #print(\"gamma = np.array([{}])\".format(\", \".join(\n",
    "                #    (\"{}\".format(g) for g in gammas))))\n",
    "            #print(\"tau = np.array([{}])\".format(\", \".join(\n",
    "                #    (\"{}\".format(t) for t in tau))))\n",
    "\n",
    "    tau_inc = np.array(tau_inc).reshape(-1)\n",
    "    gamma_dot = np.array(gamma_dot).reshape(-1)\n",
    "    gammas = np.array(gammas).reshape(-1)\n",
    "    tau = np.array(tau)\n",
    "    print(stress)\n",
    "\n",
    "    def fun(F_vec):\n",
    "        stress = cell.evaluate_stress(F_vec)\n",
    "        return stress\n",
    "\n",
    "    return fun, F.T.reshape(-1)\n"
   ]
  },
  {
   "cell_type": "code",
   "execution_count": null,
   "metadata": {
    "autoscroll": false,
    "collapsed": false,
    "ein.hycell": false,
    "ein.tags": "worksheet-0",
    "slideshow": {
     "slide_type": "-"
    }
   },
   "outputs": [],
   "source": [
    "def elastic_load_to_a_point(delta_t=1e-3,\n",
    "                            m_par = .1,\n",
    "                            gamma_dot0=.1,\n",
    "                            h0 = 0e9 ,\n",
    "                            a_par = 0,\n",
    "                            max_shear = 10e-2):\n",
    "    bulk_m = 175e9;\n",
    "    shear_m = 120e9;\n",
    "    tau_y0 = 1e200\n",
    "\n",
    "    delta_tau_y = 100e6;\n",
    "    q_n = 1.4;\n",
    "    #delta_t = 1e-4;\n",
    "    tolerance=1e-12\n",
    "    dirs = np.array([[1., 0.]])\n",
    "    norms = np.array([[0., 1.]])\n",
    "    resolution = [1,1]\n",
    "    lengths = [1, 1]\n",
    "    formulation = µ.Formulation.finite_strain\n",
    "\n",
    "    cell = µ.Cell(resolution,\n",
    "                  lengths,\n",
    "                  formulation)\n",
    "    dim = len(lengths)\n",
    "\n",
    "    mat = µ.material.MaterialCrystalPlasticityFinite_2d_1slip.make(\n",
    "        cell, \"crystal\", bulk_m, shear_m, gamma_dot0, m_par, tau_y0, h0, delta_tau_y, a_par, q_n, dirs, norms, delta_t, tolerance=tolerance)\n",
    "\n",
    "    for pixel in cell:\n",
    "        mat.add_pixel(pixel, np.array([[0.]]))\n",
    "\n",
    "        cell.initialise()\n",
    "\n",
    "        tau = list()\n",
    "        sigma_xx=list()\n",
    "        gammas=list()\n",
    "        tau_inc = list()\n",
    "        gamma_dot = list()\n",
    "        shear_incr = 1.e-4\n",
    "        np_load = int(max_shear/shear_incr)\n",
    "        F = np.eye(2)\n",
    "\n",
    "        F[0,1] += max_shear\n",
    "        gammas.append(F[0,1])\n",
    "\n",
    "        stress = cell.evaluate_stress(F.T.reshape(-1))\n",
    "\n",
    "    def fun(F_vec):\n",
    "        stress = cell.evaluate_stress(F_vec)\n",
    "        return stress\n",
    "\n",
    "    return fun, F.T.reshape(-1)\n"
   ]
  },
  {
   "cell_type": "code",
   "execution_count": null,
   "metadata": {
    "autoscroll": false,
    "collapsed": false,
    "ein.hycell": false,
    "ein.tags": "worksheet-0",
    "slideshow": {
     "slide_type": "-"
    }
   },
   "outputs": [],
   "source": [
    "fun, F = elastic_load_to_a_point(max_shear=1e-2)"
   ]
  },
  {
   "cell_type": "code",
   "execution_count": null,
   "metadata": {
    "autoscroll": false,
    "collapsed": false,
    "ein.hycell": false,
    "ein.tags": "worksheet-0",
    "slideshow": {
     "slide_type": "-"
    }
   },
   "outputs": [],
   "source": [
    "def numerical_gradient(fun, x, delta):\n",
    "    dim = len(x)\n",
    "    grad = np.zeros([dim, dim])\n",
    "    for i in range(dim):\n",
    "        del_x = np.zeros_like(x)\n",
    "        del_x[i] += delta\n",
    "        del_f = fun(x + del_x).copy()\n",
    "        del_f -= fun(x)\n",
    "        del_f /= delta\n",
    "        #print(\"{}:\\ndel_x: {}\\ndelf: {}\\nf+: {}\\nf-: {}\".format(i, del_x, del_f, fun(x + del_x), fun(x)))\n",
    "        grad[:,i] = del_f\n",
    "        pass\n",
    "    return grad"
   ]
  },
  {
   "cell_type": "code",
   "execution_count": null,
   "metadata": {
    "autoscroll": false,
    "collapsed": false,
    "ein.hycell": false,
    "ein.tags": "worksheet-0",
    "slideshow": {
     "slide_type": "-"
    }
   },
   "outputs": [],
   "source": [
    "#%%debug\n",
    "ref = np.array([[3.35e+11,        0,  9.5e+08,  9.5e+10],\n",
    "                [ 1.2e+09,  1.2e+11,  1.2e+11,        0],\n",
    "                [ 1.2e+09,  1.2e+11,  1.2e+11,        0],\n",
    "                [ 9.5e+10,        0, 3.35e+09, 3.35e+11]])\n",
    "num_grad = numerical_gradient(fun, F, delta=1e-6)\n",
    "print(num_grad)\n",
    "print(norm(num_grad-ref)/norm(ref))\n",
    "print(num_grad - ref)"
   ]
  },
  {
   "cell_type": "code",
   "execution_count": null,
   "metadata": {
    "autoscroll": false,
    "collapsed": false,
    "ein.hycell": false,
    "ein.tags": "worksheet-0",
    "slideshow": {
     "slide_type": "-"
    }
   },
   "outputs": [],
   "source": [
    "errors = np.zeros(200)\n",
    "deltas = np.logspace(-1, -20, len(errors))\n",
    "for i, delta in enumerate(deltas):\n",
    "    num_grad = numerical_gradient(fun, F, delta)\n",
    "    errors[i] = norm(num_grad-ref)/norm(ref)\n",
    "plt.loglog(deltas, errors)"
   ]
  },
  {
   "cell_type": "code",
   "execution_count": null,
   "metadata": {
    "autoscroll": false,
    "collapsed": false,
    "ein.hycell": false,
    "ein.tags": "worksheet-0",
    "slideshow": {
     "slide_type": "-"
    }
   },
   "outputs": [],
   "source": [
    "def elastic_law(delta_t=1e-3,\n",
    "                m_par = .1,\n",
    "                gamma_dot0=.1,\n",
    "                h0 = 0e9 ,\n",
    "                a_par = 0,\n",
    "                max_shear = 10e-2):\n",
    "    bulk_m = 175e9;\n",
    "    shear_m = 120e9;\n",
    "    tau_y0 = 1e200\n",
    "\n",
    "    delta_tau_y = 100e6;\n",
    "    q_n = 1.4;\n",
    "    #delta_t = 1e-4;\n",
    "    tolerance=1e-12\n",
    "    dirs = np.array([[1., 0.]])\n",
    "    norms = np.array([[0., 1.]])\n",
    "    resolution = [1,1]\n",
    "    lengths = [1, 1]\n",
    "    formulation = µ.Formulation.finite_strain\n",
    "\n",
    "    cell = µ.Cell(resolution,\n",
    "                  lengths,\n",
    "                  formulation)\n",
    "    dim = len(lengths)\n",
    "\n",
    "    mat = µ.material.MaterialCrystalPlasticityFinite_2d_1slip.make(\n",
    "        cell, \"crystal\", bulk_m, shear_m, gamma_dot0, m_par, tau_y0, h0, delta_tau_y, a_par, q_n, dirs, norms, delta_t, tolerance=tolerance)\n",
    "\n",
    "    for pixel in cell:\n",
    "        mat.add_pixel(pixel, np.array([[0.]]))\n",
    "\n",
    "        cell.initialise()\n",
    "\n",
    "        tau = list()\n",
    "        sigma_xx=list()\n",
    "        gammas=list()\n",
    "        tau_inc = list()\n",
    "        gamma_dot = list()\n",
    "        shear_incr = 1.e-4\n",
    "        np_load = int(max_shear/shear_incr)\n",
    "        F = np.eye(2)\n",
    "\n",
    "        F[0,1] += max_shear\n",
    "        gammas.append(F[0,1])\n",
    "\n",
    "        stress = cell.evaluate_stress(F.T.reshape(-1))\n",
    "\n",
    "    def fun(F_vec):\n",
    "        stress = cell.evaluate_stress(F_vec)\n",
    "        return stress\n",
    "\n",
    "    return fun, F.T.reshape(-1)\n"
   ]
  },
  {
   "cell_type": "code",
   "execution_count": 2,
   "metadata": {
    "autoscroll": false,
    "collapsed": false,
    "ein.hycell": false,
    "ein.tags": "worksheet-0",
    "slideshow": {
     "slide_type": "-"
    }
   },
   "outputs": [
    {
     "name": "stdout",
     "output_type": "stream",
     "text": [
      "E = 1.0030648180242636, ν = 0.299306759098787\n",
      "nb load steps = 10\n",
      "K_input = 0.833000000000001, mu_input = 0.386\n"
     ]
    },
    {
     "data": {
      "image/png": "[encoded data removed]",
      "text/plain": [
       "<Figure size 576x432 with 4 Axes>"
      ]
     },
     "metadata": {},
     "output_type": "display_data"
    }
   ],
   "source": [
    "def hyper_curve(Young, Poisson, tau_y0 = 200e6, h0 = 10e9, max_shear = 10e-2,\n",
    "                shear_incr = 1e-4):\n",
    "    print(\"E = {}, ν = {}\".format(Young, Poisson))\n",
    "\n",
    "    tolerance=1e-12\n",
    "    dim = 3\n",
    "    resolution = [1, 1] if dim == 2 else [1, 1, 1]\n",
    "    lengths = resolution.copy()\n",
    "    formulation = µ.Formulation.finite_strain\n",
    "\n",
    "    cell = µ.Cell(resolution,\n",
    "                  lengths,\n",
    "                  formulation)\n",
    "    dim = len(lengths)\n",
    "\n",
    "    mat_type = µ.material.MaterialHyperElastoPlastic1_3d if dim == 3 else µ.material.MaterialHyperElastoPlastic1_2d\n",
    "    mat = mat_type.make(\n",
    "        cell, \"hyper-elasto-plastic\", Young, Poisson, tau_y0, h0)\n",
    "\n",
    "    for pixel in cell:\n",
    "        mat.add_pixel(pixel)\n",
    "\n",
    "        cell.initialise()\n",
    "\n",
    "        tau = list()\n",
    "        sigma_xx=list()\n",
    "        dtau = list()\n",
    "        dsigma_xx=list()\n",
    "        gammas=list()\n",
    "        #tau_inc = list()\n",
    "        #gamma_dot = list()\n",
    "        nb_load = int(max_shear/shear_incr)\n",
    "        print(\"nb load steps = {}\".format(nb_load))\n",
    "        F = np.eye(dim)\n",
    "\n",
    "        for step in range(nb_load):\n",
    "            F[0,1] += shear_incr\n",
    "            gammas.append(F[0,1])\n",
    "\n",
    "            stress, tangent = cell.evaluate_stress_tangent(F.T.reshape(-1))\n",
    "            mat.save_history_variables()\n",
    "\n",
    "            tangent_mat = tangent.reshape([dim**2, dim**2])\n",
    "            dtau.append(tangent_mat[dim, dim])\n",
    "            dsigma_xx.append(tangent_mat[0,0])\n",
    "            tau.append(stress[dim])\n",
    "            sigma_xx.append(stress[0])\n",
    "    gammas = np.array(gammas).reshape(-1)\n",
    "    tau = np.array(tau).reshape(-1)\n",
    "    dtau = np.array(dtau).reshape(-1)\n",
    "    sigma_xx = np.array(sigma_xx).reshape(-1)\n",
    "    dsigma_xx = np.array(dsigma_xx).reshape(-1)\n",
    "\n",
    "    #print(\"K:\\n{}\".format(tangent_mat))\n",
    "    return gammas, tau, sigma_xx, dtau, dsigma_xx\n",
    "\n",
    "bulk_m = .833\n",
    "shear_m = .386\n",
    "Young = 9*bulk_m*shear_m/(3*bulk_m + shear_m)\n",
    "Poisson = Young/(2*shear_m) - 1\n",
    "h = .008*8\n",
    "tau_y0 = .006\n",
    "\n",
    "shear_incr = 5e-3\n",
    "max_shear = 5e-2\n",
    "\n",
    "gammas, tau, sigma_xx, dtau, dsigma_xx = hyper_curve(Young, Poisson,\n",
    "                                    tau_y0 = tau_y0, h0 = h, max_shear = max_shear,\n",
    "                                    shear_incr = shear_incr)\n",
    "from dummy import reference_curve\n",
    "gamma_ref, tau_ref, sigma_xx_ref, dtau_ref, dsigma_xx_ref = (\n",
    "    reference_curve(tauy0_input=tau_y0,\n",
    "                    h_input = h,\n",
    "                    max_shear = max_shear,\n",
    "                    E = Young,\n",
    "                    nu= Poisson,\n",
    "                    shear_incr = shear_incr))\n",
    "\n",
    "fig = plt.figure(figsize=(8,6))\n",
    "ax1 = fig.add_subplot(221)\n",
    "\n",
    "ax1.plot(gammas, tau, \"+-\", label=r\"$\\tau$ default\")\n",
    "ax1.plot(gamma_ref, tau_ref, \"x-\", label=r\"$\\tau_{\\mathrm{ref}}$ default\")\n",
    "\n",
    "ax1.legend(loc='best')\n",
    "ax1.set_title(\"Error = {:.2e}\".format(np.linalg.norm(tau-tau_ref)/\n",
    "                                      np.linalg.norm(tau_ref)))\n",
    "ax1.set_xlabel('ε₁₂')\n",
    "ax1.set_ylabel('τ₁₂');\n",
    "\n",
    "ax2 = fig.add_subplot(222)\n",
    "ax2.plot(gammas, sigma_xx, \"+-\", label=r\"$\\sigma_{xx}$ default\")\n",
    "ax2.plot(gamma_ref, sigma_xx_ref, \"x-\", label=r\"${\\sigma_{xx}}_{\\mathrm{ref}}$ default\")\n",
    "ax2.legend(loc='best')\n",
    "ax2.set_title(\"Error = {:.2e}\".format(np.linalg.norm(sigma_xx-sigma_xx_ref)/\n",
    "                                      np.linalg.norm(sigma_xx_ref)))\n",
    "ax2.set_xlabel('ε₁₂')\n",
    "ax2.set_ylabel('σ₁₁');\n",
    "\n",
    "ax3 = fig.add_subplot(223)\n",
    "\n",
    "ax3.plot(gammas, dtau, \"+-\", label=r\"$\\tau$ default\")\n",
    "ax3.plot(gamma_ref, dtau_ref, \"x-\", label=r\"$\\tau_{\\mathrm{ref}}$ default\")\n",
    "\n",
    "ax3.legend(loc='best')\n",
    "ax3.set_title(\"Error = {:.2e}\".format(np.linalg.norm(dtau-dtau_ref)/\n",
    "                                      np.linalg.norm(dtau_ref)))\n",
    "ax3.set_xlabel('ε₁₂')\n",
    "ax3.set_ylabel('δτ₁₂');\n",
    "ax3.grid(True)\n",
    "\n",
    "ax4 = fig.add_subplot(224)\n",
    "\n",
    "#ax4.plot(gammas, dsigma_xx, \"+-\", label=r\"$\\sigma_{xx}$ default\")\n",
    "#ax4.plot(gamma_ref, dsigma_xx_ref, \"x-\", label=r\"${\\sigma_{xx}}_{\\mathrm{ref}}$ default\")\n",
    "ax4.plot(gamma_ref, dtau-dtau_ref, \"x-\", label=r\"error on $\\delta\\tau_{\\mathrm{ref}}$ default\")\n",
    "\n",
    "ax4.legend(loc='best')\n",
    "ax4.set_title(\"Error = {:.2e}\".format(np.linalg.norm(dsigma_xx-dsigma_xx_ref)/\n",
    "                                      np.linalg.norm(dsigma_xx_ref)))\n",
    "ax4.set_xlabel('ε₁₂')\n",
    "ax4.set_ylabel('δσ₁₂');\n",
    "fig.tight_layout()\n"
   ]
  },
  {
   "cell_type": "code",
   "execution_count": null,
   "metadata": {
    "autoscroll": false,
    "collapsed": false,
    "ein.hycell": false,
    "ein.tags": "worksheet-0",
    "slideshow": {
     "slide_type": "-"
    }
   },
   "outputs": [],
   "source": []
  }
 ],
 "metadata": {
  "kernelspec": {
   "display_name": "Python 3",
   "name": "python3"
  },
  "name": "stress_strain.ipynb"
 },
 "nbformat": 4,
 "nbformat_minor": 2
}
