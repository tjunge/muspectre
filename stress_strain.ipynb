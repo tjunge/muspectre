{
 "cells": [
  {
   "cell_type": "code",
   "execution_count": null,
   "metadata": {
    "autoscroll": false,
    "collapsed": false,
    "ein.hycell": false,
    "ein.tags": "worksheet-0",
    "slideshow": {
     "slide_type": "-"
    }
   },
   "outputs": [],
   "source": [
    "import numpy as np\n",
    "import matplotlib.pyplot as plt\n",
    "%matplotlib inline\n",
    "import sys\n",
    "sys.path.append(\"./build-clang/language_bindings/python/\")\n",
    "#sys.path.append(\"./build-clang5/language_bindings/python/\")\n",
    "import muSpectre as µ"
   ]
  },
  {
   "cell_type": "code",
   "execution_count": null,
   "metadata": {
    "autoscroll": false,
    "collapsed": false,
    "ein.hycell": false,
    "ein.tags": "worksheet-0",
    "slideshow": {
     "slide_type": "-"
    }
   },
   "outputs": [],
   "source": [
    "bulk_m = 175e9;\n",
    "shear_m = 120e9;\n",
    "gamma_dot0 = 10e-2;\n",
    "m_par = .1;\n",
    "tau_y0 = 200e6;\n",
    "h0 = 10e9;\n",
    "delta_tau_y = 100e6;\n",
    "a_par = 0;\n",
    "q_n = 1.4;\n",
    "delta_t = 1e-4;\n",
    "tolerance=1e-122\n",
    "dirs = np.array([[1., 0.]])\n",
    "norms = np.array([[0., 1.]])\n",
    "\n",
    "resolution = [1,1]\n",
    "lengths = [1, 1]\n",
    "formulation = µ.Formulation.finite_strain\n",
    "\n",
    "cell = µ.Cell(resolution,\n",
    "                   lengths,\n",
    "                   formulation)\n",
    "dim = len(lengths)\n",
    "\n",
    "mat = µ.material.MaterialCrystalPlasticityFinite_2d_1slip.make(\n",
    "    cell, \"crystal\", bulk_m, shear_m, gamma_dot0, m_par, tau_y0, h0, delta_tau_y, a_par, q_n, dirs, norms, delta_t, tolerance=tolerance)\n",
    "\n",
    "for pixel in cell:\n",
    "    mat.add_pixel(pixel, np.array([[0.]]))\n",
    "\n",
    "cell.initialise()\n",
    "\n",
    "tau = list()\n",
    "sigma_xx=list()\n",
    "gammas=list()\n",
    "tau_inc = list()\n",
    "gamma_dot = list()\n",
    "shear_incr = 1e-4\n",
    "max_shear = 1e-2\n",
    "np_load = int(max_shear/shear_incr)\n",
    "F = np.eye(2)\n",
    "\n",
    "for step in range(np_load):\n",
    "    F[0,1] += shear_incr\n",
    "    gammas.append(F[0,1])\n",
    "\n",
    "    stress = cell.evaluate_stress(F.T.reshape(-1))\n",
    "    mat.save_history_variables()\n",
    "    tau.append(stress[2])\n",
    "    sigma_xx.append(stress[0])\n",
    "    tau_inc.append(mat.get_real_field(\"dummy τ_inc\"))\n",
    "    gamma_dot.append(mat.get_real_field(\"dummy γ_dot\"))\n",
    "#print(\"gamma = np.array([{}])\".format(\", \".join(\n",
    "#    (\"{}\".format(g) for g in gammas))))\n",
    "#print(\"tau = np.array([{}])\".format(\", \".join(\n",
    "#    (\"{}\".format(t) for t in tau))))\n",
    "\n",
    "tau_inc = np.array(tau_inc).reshape(-1)\n",
    "gamma_dot = np.array(gamma_dot).reshape(-1)\n",
    "\n",
    "plt.plot(gammas, tau)\n",
    "plt.figure()\n",
    "plt.plot(gammas, tau_inc/gamma_dot)\n"
   ]
  },
  {
   "cell_type": "code",
   "execution_count": null,
   "metadata": {
    "autoscroll": false,
    "collapsed": false,
    "ein.hycell": false,
    "ein.tags": "worksheet-0",
    "slideshow": {
     "slide_type": "-"
    }
   },
   "outputs": [],
   "source": [
    "tau = np.array((.99681e+08,\n",
    "    3.06304e+08,\n",
    "    3.13596e+08,\n",
    "    3.1911e+08 ,\n",
    "    3.25063e+08,\n",
    "    3.29757e+08,\n",
    "    3.34694e+08,\n",
    "    3.38743e+08,\n",
    "    3.42899e+08,\n",
    "    3.46425e+08))\n",
    "tau = np.array([2.22542e+08, 2.78801e+08, 2.62275e+08, 2.73714e+08, 2.67101e+08, 2.7146e+08, 2.68786e+08, 2.70508e+08, 2.69431e+08, 2.70117e+08, 2.69684e+08, 2.69958e+08, 2.69784e+08, 2.69894e+08, 2.69824e+08, 2.69868e+08, 2.69839e+08, 2.69857e+08, 2.69845e+08, 2.69852e+08, 2.69847e+08, 2.6985e+08, 2.69847e+08, 2.69848e+08, 2.69847e+08])\n",
    "\n",
    "\n",
    "\n",
    "plt.plot(tau)\n"
   ]
  },
  {
   "cell_type": "code",
   "execution_count": null,
   "metadata": {
    "autoscroll": false,
    "collapsed": false,
    "ein.hycell": false,
    "ein.tags": "worksheet-0",
    "slideshow": {
     "slide_type": "-"
    }
   },
   "outputs": [],
   "source": [
    "gamma = np.array([0.005, 0.010000000000000002, 0.015000000000000003, 0.020000000000000004, 0.025000000000000005, 0.030000000000000006, 0.035, 0.04, 0.045000000000000005, 0.05])\n",
    "tau = np.array([296130891.4393467, 295450799.7219975, 296024844.9454069, 295554586.12864435, 295940972.1918171, 295624237.6484094, 295884371.1672535, 295671061.16190904, 295846202.27996933, 295702553.6179742])\n",
    "plt.plot(gamma, tau)"
   ]
  },
  {
   "cell_type": "code",
   "execution_count": null,
   "metadata": {
    "autoscroll": false,
    "collapsed": false,
    "ein.hycell": false,
    "ein.tags": "worksheet-0",
    "slideshow": {
     "slide_type": "-"
    }
   },
   "outputs": [],
   "source": []
  }
 ],
 "metadata": {
  "kernelspec": {
   "display_name": "Python 3",
   "name": "python3"
  },
  "name": "stress_strain.ipynb"
 },
 "nbformat": 4,
 "nbformat_minor": 2
}
