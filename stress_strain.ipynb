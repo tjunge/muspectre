{
 "cells": [
  {
   "cell_type": "code",
   "execution_count": 1,
   "metadata": {
    "autoscroll": false,
    "collapsed": false,
    "ein.hycell": false,
    "ein.tags": "worksheet-0",
    "slideshow": {
     "slide_type": "-"
    }
   },
   "outputs": [],
   "source": [
    "import numpy as np\n",
    "import matplotlib.pyplot as plt\n",
    "%matplotlib inline\n",
    "import sys\n",
    "sys.path.append(\"./build-clang/language_bindings/python/\")\n",
    "#sys.path.append(\"./build-clang5/language_bindings/python/\")\n",
    "from numpy.linalg import norm\n",
    "import muSpectre as µ"
   ]
  },
  {
   "cell_type": "code",
   "execution_count": 2,
   "metadata": {
    "autoscroll": false,
    "collapsed": false,
    "ein.hycell": false,
    "ein.tags": "worksheet-0",
    "slideshow": {
     "slide_type": "-"
    }
   },
   "outputs": [
    {
     "data": {
      "image/png": "[encoded data removed]",
      "text/plain": [
       "<Figure size 432x288 with 1 Axes>"
      ]
     },
     "metadata": {},
     "output_type": "display_data"
    }
   ],
   "source": [
    "def curve(delta_t, tau_y0 = 200e6,     m_par = .02, gamma_dot0=.1,     h0 = 0e9 ,   a_par = 0,         max_shear = 10e-2):\n",
    "    bulk_m = 175e9;\n",
    "    shear_m = 120e9;\n",
    "\n",
    "    delta_tau_y = 100e6;\n",
    "    q_n = 1.4;\n",
    "    #delta_t = 1e-4;\n",
    "    tolerance=1e-12\n",
    "    dirs = np.array([[1., 0.]])\n",
    "    norms = np.array([[0., 1.]])\n",
    "    resolution = [1,1]\n",
    "    lengths = [1, 1]\n",
    "    formulation = µ.Formulation.finite_strain\n",
    "\n",
    "    cell = µ.Cell(resolution,\n",
    "                  lengths,\n",
    "                  formulation)\n",
    "    dim = len(lengths)\n",
    "\n",
    "    mat = µ.material.MaterialCrystalPlasticityFinite_2d_1slip.make(\n",
    "        cell, \"crystal\", bulk_m, shear_m, gamma_dot0, m_par, tau_y0, h0, delta_tau_y, a_par, q_n, dirs, norms, delta_t, tolerance=tolerance)\n",
    "\n",
    "    for pixel in cell:\n",
    "        mat.add_pixel(pixel, np.array([[0.]]))\n",
    "\n",
    "        cell.initialise()\n",
    "\n",
    "        tau = list()\n",
    "        sigma_xx=list()\n",
    "        gammas=list()\n",
    "        tau_inc = list()\n",
    "        gamma_dot = list()\n",
    "        shear_incr = 1.e-4\n",
    "        np_load = int(max_shear/shear_incr)\n",
    "        F = np.eye(2)\n",
    "\n",
    "        for step in range(np_load):\n",
    "            F[0,1] += shear_incr\n",
    "            gammas.append(F[0,1])\n",
    "\n",
    "            stress = cell.evaluate_stress(F.T.reshape(-1))\n",
    "            mat.save_history_variables()\n",
    "            tau.append(stress[2])\n",
    "            sigma_xx.append(stress[0])\n",
    "            tau_inc.append(mat.get_real_field(\"dummy τ_inc\"))\n",
    "            gamma_dot.append(mat.get_real_field(\"dummy γ_dot\"))\n",
    "            #print(\"gamma = np.array([{}])\".format(\", \".join(\n",
    "                #    (\"{}\".format(g) for g in gammas))))\n",
    "            #print(\"tau = np.array([{}])\".format(\", \".join(\n",
    "                #    (\"{}\".format(t) for t in tau))))\n",
    "\n",
    "    tau_inc = np.array(tau_inc).reshape(-1)\n",
    "    gamma_dot = np.array(gamma_dot).reshape(-1)\n",
    "    gammas = np.array(gammas).reshape(-1)\n",
    "    tau = np.array(tau)\n",
    "\n",
    "    return gammas, tau, gamma_dot, tau_inc\n",
    "tau_y0 = 200e6;\n",
    "for dt in (1e-3, 1e-4, 1e-5):\n",
    "    gammas, tau, gamma_dot, tau_inc = curve(dt, tau_y0, m_par = .03)\n",
    "    tg_bar = (tau_inc/gamma_dot).mean()\n",
    "    tg_std = (tau_inc/gamma_dot).std()\n",
    "\n",
    "    plt.plot(gammas, tau, label=\"Δt = {:.0e}, <τᵅ/γ_dot>= {:.2e} ± {:.1e}\".format(dt, tg_bar, tg_std))\n",
    "    pass\n",
    "plt.legend(loc='best')\n",
    "plt.xlabel('ε₁₂')\n",
    "plt.ylabel('γ₁₂');\n",
    "\n",
    "\n"
   ]
  },
  {
   "cell_type": "code",
   "execution_count": 3,
   "metadata": {
    "autoscroll": false,
    "collapsed": false,
    "ein.hycell": false,
    "ein.tags": "worksheet-0",
    "slideshow": {
     "slide_type": "-"
    }
   },
   "outputs": [
    {
     "name": "stdout",
     "output_type": "stream",
     "text": [
      "299988716.8722687\n",
      "299988716.8722687\n",
      "299988716.8722687\n"
     ]
    },
    {
     "data": {
      "image/png": "[encoded data removed]",
      "text/plain": [
       "<Figure size 432x288 with 1 Axes>"
      ]
     },
     "metadata": {},
     "output_type": "display_data"
    }
   ],
   "source": [
    "tau_y0 = 200e6;\n",
    "for dt in (1e-3, 1e-4, 1e-5):\n",
    "    gammas, tau, gamma_dot, tau_inc = curve(dt, tau_y0, m_par = .1, gamma_dot0 =1e-4/dt, h0=1000e9, a_par = 1.5, max_shear=10e-2)\n",
    "    tg_bar = (tau_inc/gamma_dot).mean()\n",
    "    tg_std = (tau_inc/gamma_dot).std()\n",
    "\n",
    "    plt.plot(gammas, tau, label=\"Δt = {:.0e}, <τᵅ/γ_dot>= {:.2e} ± {:.1e}\".format(dt, tg_bar, tg_std))\n",
    "    pass\n",
    "    print(tau.max())\n",
    "plt.legend(loc='best')\n",
    "plt.xlabel('ε₁₂')\n",
    "plt.grid(True)\n",
    "plt.ylabel('γ₁₂');\n"
   ]
  },
  {
   "cell_type": "code",
   "execution_count": 4,
   "metadata": {
    "autoscroll": false,
    "collapsed": false,
    "ein.hycell": false,
    "ein.tags": "worksheet-0",
    "slideshow": {
     "slide_type": "-"
    }
   },
   "outputs": [
    {
     "data": {
      "text/plain": [
       "[<matplotlib.lines.Line2D at 0x7fd7e814fc88>]"
      ]
     },
     "execution_count": 4,
     "metadata": {},
     "output_type": "execute_result"
    },
    {
     "data": {
      "image/png": "[encoded data removed]",
      "text/plain": [
       "<Figure size 432x288 with 1 Axes>"
      ]
     },
     "metadata": {},
     "output_type": "display_data"
    },
    {
     "data": {
      "image/png": "[encoded data removed]",
      "text/plain": [
       "<Figure size 432x288 with 1 Axes>"
      ]
     },
     "metadata": {},
     "output_type": "display_data"
    }
   ],
   "source": [
    "tau_y0 = 200e6;\n",
    "for dt in (1e-3, 1e-4, 1e-5):\n",
    "    gammas, tau, gamma_dot, tau_inc = curve(dt, tau_y0, m_par = .03)\n",
    "    tg_bar = (gamma_dot/.1).mean()\n",
    "    tg_std = (gamma_dot/.1).std()\n",
    "\n",
    "    ##plt.plot(gammas, tau, label=\"Δt = {:.0e}, <τᵅ/γ_dot>= {:.2e} ± {:.1e}\".format(dt, tg_bar, tg_std))\n",
    "    plt.plot(gammas, gamma_dot/.1, label=\"Δt = {:.0e}, <τᵅ/γ_dot>= {:.2e} ± {:.1e}\".format(dt, tg_bar, tg_std))\n",
    "    pass\n",
    "plt.legend(loc='best')\n",
    "plt.xlabel('ε₁₂')\n",
    "plt.ylabel('γ_dot');\n",
    "plt.figure()\n",
    "plt.plot(tau_inc/gamma_dot)"
   ]
  },
  {
   "cell_type": "code",
   "execution_count": 5,
   "metadata": {
    "autoscroll": false,
    "collapsed": false,
    "ein.hycell": false,
    "ein.tags": "worksheet-0",
    "slideshow": {
     "slide_type": "-"
    }
   },
   "outputs": [
    {
     "data": {
      "image/png": "[encoded data removed]",
      "text/plain": [
       "<Figure size 432x288 with 1 Axes>"
      ]
     },
     "metadata": {},
     "output_type": "display_data"
    }
   ],
   "source": [
    "tau_y0 = 200e6;\n",
    "gamma_dot_default=.1\n",
    "for dt in (1e-3, 1e-4, 1e-5):\n",
    "    gammas, tau, gamma_dot, tau_inc = curve(dt, tau_y0, m_par = .5 , gamma_dot0=1e-2)\n",
    "    tg_bar = (gamma_dot/.1).mean()\n",
    "    tg_std = (gamma_dot/.1).std()\n",
    "\n",
    "    ##plt.plot(gammas, tau, label=\"Δt = {:.0e}, <τᵅ/γ_dot>= {:.2e} ± {:.1e}\".format(dt, tg_bar, tg_std))\n",
    "    plt.plot(gammas, gamma_dot/.1, label=\"Δt = {:.0e}, <τᵅ/γ_dot>= {:.2e} ± {:.1e}\".format(dt, tg_bar, tg_std))\n",
    "    pass\n",
    "plt.legend(loc='best')\n",
    "plt.xlabel('ε₁₂')\n",
    "plt.ylabel('γ_dot');\n"
   ]
  },
  {
   "cell_type": "code",
   "execution_count": 6,
   "metadata": {
    "autoscroll": false,
    "collapsed": false,
    "ein.hycell": false,
    "ein.tags": "worksheet-0",
    "slideshow": {
     "slide_type": "-"
    }
   },
   "outputs": [
    {
     "data": {
      "text/plain": [
       "[<matplotlib.lines.Line2D at 0x7fd7e08ad208>]"
      ]
     },
     "execution_count": 6,
     "metadata": {},
     "output_type": "execute_result"
    },
    {
     "data": {
      "image/png": "[encoded data removed]",
      "text/plain": [
       "<Figure size 432x288 with 1 Axes>"
      ]
     },
     "metadata": {},
     "output_type": "display_data"
    }
   ],
   "source": [
    "tau = np.array((.99681e+08,\n",
    "    3.06304e+08,\n",
    "    3.13596e+08,\n",
    "    3.1911e+08 ,\n",
    "    3.25063e+08,\n",
    "    3.29757e+08,\n",
    "    3.34694e+08,\n",
    "    3.38743e+08,\n",
    "    3.42899e+08,\n",
    "    3.46425e+08))\n",
    "tau = np.array([2.22542e+08, 2.78801e+08, 2.62275e+08, 2.73714e+08, 2.67101e+08, 2.7146e+08, 2.68786e+08, 2.70508e+08, 2.69431e+08, 2.70117e+08, 2.69684e+08, 2.69958e+08, 2.69784e+08, 2.69894e+08, 2.69824e+08, 2.69868e+08, 2.69839e+08, 2.69857e+08, 2.69845e+08, 2.69852e+08, 2.69847e+08, 2.6985e+08, 2.69847e+08, 2.69848e+08, 2.69847e+08])\n",
    "\n",
    "\n",
    "\n",
    "plt.plot(tau)\n"
   ]
  },
  {
   "cell_type": "code",
   "execution_count": 7,
   "metadata": {
    "autoscroll": false,
    "collapsed": false,
    "ein.hycell": false,
    "ein.tags": "worksheet-0",
    "slideshow": {
     "slide_type": "-"
    }
   },
   "outputs": [
    {
     "data": {
      "text/plain": [
       "[<matplotlib.lines.Line2D at 0x7fd7e08089b0>]"
      ]
     },
     "execution_count": 7,
     "metadata": {},
     "output_type": "execute_result"
    },
    {
     "data": {
      "image/png": "[encoded data removed]",
      "text/plain": [
       "<Figure size 432x288 with 1 Axes>"
      ]
     },
     "metadata": {},
     "output_type": "display_data"
    }
   ],
   "source": [
    "gamma = np.array([0.005, 0.010000000000000002, 0.015000000000000003, 0.020000000000000004, 0.025000000000000005, 0.030000000000000006, 0.035, 0.04, 0.045000000000000005, 0.05])\n",
    "tau = np.array([296130891.4393467, 295450799.7219975, 296024844.9454069, 295554586.12864435, 295940972.1918171, 295624237.6484094, 295884371.1672535, 295671061.16190904, 295846202.27996933, 295702553.6179742])\n",
    "plt.plot(gamma, tau)"
   ]
  },
  {
   "cell_type": "code",
   "execution_count": 8,
   "metadata": {
    "autoscroll": false,
    "collapsed": false,
    "ein.hycell": false,
    "ein.tags": "worksheet-0",
    "slideshow": {
     "slide_type": "-"
    }
   },
   "outputs": [
    {
     "data": {
      "text/plain": [
       "[<matplotlib.lines.Line2D at 0x7fd7ddfc0470>]"
      ]
     },
     "execution_count": 8,
     "metadata": {},
     "output_type": "execute_result"
    },
    {
     "data": {
      "image/png": "[encoded data removed]",
      "text/plain": [
       "<Figure size 432x288 with 1 Axes>"
      ]
     },
     "metadata": {},
     "output_type": "display_data"
    }
   ],
   "source": [
    "def fun18(t, m=.1, s=1., gamma_dot0=.1):\n",
    "    return gamma_dot0 * (abs(t)/s)**(1/m)*np.sign(t)\n",
    "\n",
    "tau = np.linspace(-2, 2)\n",
    "plt.plot(tau, fun18(tau))"
   ]
  },
  {
   "cell_type": "code",
   "execution_count": 9,
   "metadata": {
    "autoscroll": false,
    "collapsed": false,
    "ein.hycell": false,
    "ein.tags": "worksheet-0",
    "slideshow": {
     "slide_type": "-"
    }
   },
   "outputs": [
    {
     "data": {
      "text/plain": [
       "[<matplotlib.lines.Line2D at 0x7fd7d90c1e48>]"
      ]
     },
     "execution_count": 9,
     "metadata": {},
     "output_type": "execute_result"
    },
    {
     "data": {
      "image/png": "[encoded data removed]",
      "text/plain": [
       "<Figure size 432x288 with 1 Axes>"
      ]
     },
     "metadata": {},
     "output_type": "display_data"
    }
   ],
   "source": [
    "def fun19(gamma_dot, tau_star=2, delta_t = .1, young_schmid = 2):\n",
    "    return tau_star - delta_t*gamma_dot*young_schmid\n",
    "gamma_dot = np.linspace(-100, 100)\n",
    "plt.plot(gamma_dot, fun19(gamma_dot))"
   ]
  },
  {
   "cell_type": "code",
   "execution_count": 10,
   "metadata": {
    "autoscroll": false,
    "collapsed": false,
    "ein.hycell": false,
    "ein.tags": "worksheet-0",
    "slideshow": {
     "slide_type": "-"
    }
   },
   "outputs": [
    {
     "data": {
      "text/plain": [
       "<matplotlib.legend.Legend at 0x7fd7d9029f98>"
      ]
     },
     "execution_count": 10,
     "metadata": {},
     "output_type": "execute_result"
    },
    {
     "data": {
      "image/png": "[encoded data removed]",
      "text/plain": [
       "<Figure size 432x288 with 1 Axes>"
      ]
     },
     "metadata": {},
     "output_type": "display_data"
    }
   ],
   "source": [
    "def residual(gamma_dot, gamma_dot0=.1, tau_star=2, delta_t=.1, young_schmid=2, s=1, m=.1):\n",
    "    tau = fun19(gamma_dot, tau_star, delta_t, young_schmid)\n",
    "    return gamma_dot - fun18(tau, m, s, gamma_dot0)\n",
    "\n",
    "def residual_jac(gamma_dot, gamma_dot0=.1, tau_star=2, delta_t=.1, young_schmid=2, s=1, m=.1):\n",
    "    tau = fun19(gamma_dot, tau_star, delta_t, young_schmid)\n",
    "    return 1.-.5*delta_t*gamma_dot0/m*abs(tau)**((1-m)/m)*s**(-1/m)*young_schmid*np.sign(tau)\n",
    "gamma_dot = np.linspace(-2, 23)\n",
    "plt.plot(gamma_dot, residual(gamma_dot), label=\"γ_dot = .1\")\n",
    "plt.plot(gamma_dot, residual(gamma_dot, gamma_dot0=.01), label=\"γ_dot = .01\")\n",
    "plt.legend()"
   ]
  },
  {
   "cell_type": "code",
   "execution_count": 11,
   "metadata": {
    "autoscroll": false,
    "collapsed": false,
    "ein.hycell": false,
    "ein.tags": "worksheet-0",
    "slideshow": {
     "slide_type": "-"
    }
   },
   "outputs": [],
   "source": [
    "def load_to_a_point(delta_t=1e-3,\n",
    "                    tau_y0 = 200e6,\n",
    "                    m_par = .1,\n",
    "                    gamma_dot0=.1,\n",
    "                    h0 = 0e9 ,\n",
    "                    a_par = 0,\n",
    "                    max_shear = 10e-2):\n",
    "    bulk_m = 175e9;\n",
    "    shear_m = 120e9;\n",
    "\n",
    "    delta_tau_y = 100e6;\n",
    "    q_n = 1.4;\n",
    "    #delta_t = 1e-4;\n",
    "    tolerance=1e-12\n",
    "    dirs = np.array([[1., 0.]])\n",
    "    norms = np.array([[0., 1.]])\n",
    "    resolution = [1,1]\n",
    "    lengths = [1, 1]\n",
    "    formulation = µ.Formulation.finite_strain\n",
    "\n",
    "    cell = µ.Cell(resolution,\n",
    "                  lengths,\n",
    "                  formulation)\n",
    "    dim = len(lengths)\n",
    "\n",
    "    mat = µ.material.MaterialCrystalPlasticityFinite_2d_1slip.make(\n",
    "        cell, \"crystal\", bulk_m, shear_m, gamma_dot0, m_par, tau_y0, h0, delta_tau_y, a_par, q_n, dirs, norms, delta_t, tolerance=tolerance)\n",
    "\n",
    "    for pixel in cell:\n",
    "        mat.add_pixel(pixel, np.array([[0.]]))\n",
    "\n",
    "        cell.initialise()\n",
    "\n",
    "        tau = list()\n",
    "        sigma_xx=list()\n",
    "        gammas=list()\n",
    "        tau_inc = list()\n",
    "        gamma_dot = list()\n",
    "        shear_incr = 1.e-4\n",
    "        np_load = int(max_shear/shear_incr)\n",
    "        F = np.eye(2)\n",
    "\n",
    "        for step in range(np_load):\n",
    "            F[0,1] += shear_incr\n",
    "            gammas.append(F[0,1])\n",
    "\n",
    "            stress = cell.evaluate_stress(F.T.reshape(-1))\n",
    "            print(stress)\n",
    "            mat.save_history_variables()\n",
    "            tau.append(stress[2])\n",
    "            sigma_xx.append(stress[0])\n",
    "            tau_inc.append(mat.get_real_field(\"dummy τ_inc\"))\n",
    "            gamma_dot.append(mat.get_real_field(\"dummy γ_dot\"))\n",
    "            #print(\"gamma = np.array([{}])\".format(\", \".join(\n",
    "                #    (\"{}\".format(g) for g in gammas))))\n",
    "            #print(\"tau = np.array([{}])\".format(\", \".join(\n",
    "                #    (\"{}\".format(t) for t in tau))))\n",
    "\n",
    "    tau_inc = np.array(tau_inc).reshape(-1)\n",
    "    gamma_dot = np.array(gamma_dot).reshape(-1)\n",
    "    gammas = np.array(gammas).reshape(-1)\n",
    "    tau = np.array(tau)\n",
    "    print(stress)\n",
    "\n",
    "    def fun(F_vec):\n",
    "        stress = cell.evaluate_stress(F_vec)\n",
    "        return stress\n",
    "\n",
    "    return fun, F.T.reshape(-1)\n"
   ]
  },
  {
   "cell_type": "code",
   "execution_count": 12,
   "metadata": {
    "autoscroll": false,
    "collapsed": false,
    "ein.hycell": false,
    "ein.tags": "worksheet-0",
    "slideshow": {
     "slide_type": "-"
    }
   },
   "outputs": [],
   "source": [
    "def elastic_load_to_a_point(delta_t=1e-3,\n",
    "                            m_par = .1,\n",
    "                            gamma_dot0=.1,\n",
    "                            h0 = 0e9 ,\n",
    "                            a_par = 0,\n",
    "                            max_shear = 10e-2):\n",
    "    bulk_m = 175e9;\n",
    "    shear_m = 120e9;\n",
    "    tau_y0 = 1e200\n",
    "\n",
    "    delta_tau_y = 100e6;\n",
    "    q_n = 1.4;\n",
    "    #delta_t = 1e-4;\n",
    "    tolerance=1e-12\n",
    "    dirs = np.array([[1., 0.]])\n",
    "    norms = np.array([[0., 1.]])\n",
    "    resolution = [1,1]\n",
    "    lengths = [1, 1]\n",
    "    formulation = µ.Formulation.finite_strain\n",
    "\n",
    "    cell = µ.Cell(resolution,\n",
    "                  lengths,\n",
    "                  formulation)\n",
    "    dim = len(lengths)\n",
    "\n",
    "    mat = µ.material.MaterialCrystalPlasticityFinite_2d_1slip.make(\n",
    "        cell, \"crystal\", bulk_m, shear_m, gamma_dot0, m_par, tau_y0, h0, delta_tau_y, a_par, q_n, dirs, norms, delta_t, tolerance=tolerance)\n",
    "\n",
    "    for pixel in cell:\n",
    "        mat.add_pixel(pixel, np.array([[0.]]))\n",
    "\n",
    "        cell.initialise()\n",
    "\n",
    "        tau = list()\n",
    "        sigma_xx=list()\n",
    "        gammas=list()\n",
    "        tau_inc = list()\n",
    "        gamma_dot = list()\n",
    "        shear_incr = 1.e-4\n",
    "        np_load = int(max_shear/shear_incr)\n",
    "        F = np.eye(2)\n",
    "\n",
    "        F[0,1] += max_shear\n",
    "        gammas.append(F[0,1])\n",
    "\n",
    "        stress = cell.evaluate_stress(F.T.reshape(-1))\n",
    "\n",
    "    def fun(F_vec):\n",
    "        stress = cell.evaluate_stress(F_vec)\n",
    "        return stress\n",
    "\n",
    "    return fun, F.T.reshape(-1)\n"
   ]
  },
  {
   "cell_type": "code",
   "execution_count": 13,
   "metadata": {
    "autoscroll": false,
    "collapsed": false,
    "ein.hycell": false,
    "ein.tags": "worksheet-0",
    "slideshow": {
     "slide_type": "-"
    }
   },
   "outputs": [],
   "source": [
    "fun, F = elastic_load_to_a_point(max_shear=1e-2)"
   ]
  },
  {
   "cell_type": "code",
   "execution_count": 14,
   "metadata": {
    "autoscroll": false,
    "collapsed": false,
    "ein.hycell": false,
    "ein.tags": "worksheet-0",
    "slideshow": {
     "slide_type": "-"
    }
   },
   "outputs": [],
   "source": [
    "def numerical_gradient(fun, x, delta):\n",
    "    dim = len(x)\n",
    "    grad = np.zeros([dim, dim])\n",
    "    for i in range(dim):\n",
    "        del_x = np.zeros_like(x)\n",
    "        del_x[i] += delta\n",
    "        del_f = fun(x + del_x).copy()\n",
    "        del_f -= fun(x)\n",
    "        del_f /= delta\n",
    "        #print(\"{}:\\ndel_x: {}\\ndelf: {}\\nf+: {}\\nf-: {}\".format(i, del_x, del_f, fun(x + del_x), fun(x)))\n",
    "        grad[:,i] = del_f\n",
    "        pass\n",
    "    return grad"
   ]
  },
  {
   "cell_type": "code",
   "execution_count": 17,
   "metadata": {
    "autoscroll": false,
    "collapsed": false,
    "ein.hycell": false,
    "ein.tags": "worksheet-0",
    "slideshow": {
     "slide_type": "-"
    }
   },
   "outputs": [
    {
     "name": "stdout",
     "output_type": "stream",
     "text": [
      "[[3.35017252e+11 1.20016751e+09 3.35016750e+09 9.50000475e+10]\n",
      " [1.20000000e+09 1.20004750e+11 1.20000000e+11 1.20000000e+09]\n",
      " [3.35000167e+09 1.20000000e+11 1.20050255e+11 3.35000167e+09]\n",
      " [9.50000475e+10 1.20016750e+09 3.35016749e+09 3.35017252e+11]]\n",
      "0.00929513020124777\n",
      "[[1.72524875e+07 1.20016751e+09 2.40016750e+09 4.74964064e+04]\n",
      " [0.00000000e+00 4.75000024e+06 0.00000000e+00 1.20000000e+09]\n",
      " [2.15000167e+09 4.74929810e+02 5.02550251e+07 3.35000167e+09]\n",
      " [4.74964082e+04 1.20016750e+09 1.67494530e+05 1.72524875e+07]]\n"
     ]
    }
   ],
   "source": [
    "#%%debug\n",
    "ref = np.array([[3.35e+11,        0,  9.5e+08,  9.5e+10],\n",
    "                [ 1.2e+09,  1.2e+11,  1.2e+11,        0],\n",
    "                [ 1.2e+09,  1.2e+11,  1.2e+11,        0],\n",
    "                [ 9.5e+10,        0, 3.35e+09, 3.35e+11]])\n",
    "num_grad = numerical_gradient(fun, F, delta=1e-6)\n",
    "print(num_grad)\n",
    "print(norm(num_grad-ref)/norm(ref))\n",
    "print(num_grad - ref)"
   ]
  },
  {
   "cell_type": "code",
   "execution_count": 18,
   "metadata": {
    "autoscroll": false,
    "collapsed": false,
    "ein.hycell": false,
    "ein.tags": "worksheet-0",
    "slideshow": {
     "slide_type": "-"
    }
   },
   "outputs": [
    {
     "data": {
      "text/plain": [
       "[<matplotlib.lines.Line2D at 0x7fd7cfb013c8>]"
      ]
     },
     "execution_count": 18,
     "metadata": {},
     "output_type": "execute_result"
    },
    {
     "data": {
      "image/png": "[encoded data removed]",
      "text/plain": [
       "<Figure size 432x288 with 1 Axes>"
      ]
     },
     "metadata": {},
     "output_type": "display_data"
    }
   ],
   "source": [
    "errors = np.zeros(200)\n",
    "deltas = np.logspace(-1, -20, len(errors))\n",
    "for i, delta in enumerate(deltas):\n",
    "    num_grad = numerical_gradient(fun, F, delta)\n",
    "    errors[i] = norm(num_grad-ref)/norm(ref)\n",
    "plt.loglog(deltas, errors)"
   ]
  },
  {
   "cell_type": "code",
   "execution_count": 19,
   "metadata": {
    "autoscroll": false,
    "collapsed": false,
    "ein.hycell": false,
    "ein.tags": "worksheet-0",
    "slideshow": {
     "slide_type": "-"
    }
   },
   "outputs": [],
   "source": [
    "def elastic_law(delta_t=1e-3,\n",
    "                m_par = .1,\n",
    "                gamma_dot0=.1,\n",
    "                h0 = 0e9 ,\n",
    "                a_par = 0,\n",
    "                max_shear = 10e-2):\n",
    "    bulk_m = 175e9;\n",
    "    shear_m = 120e9;\n",
    "    tau_y0 = 1e200\n",
    "\n",
    "    delta_tau_y = 100e6;\n",
    "    q_n = 1.4;\n",
    "    #delta_t = 1e-4;\n",
    "    tolerance=1e-12\n",
    "    dirs = np.array([[1., 0.]])\n",
    "    norms = np.array([[0., 1.]])\n",
    "    resolution = [1,1]\n",
    "    lengths = [1, 1]\n",
    "    formulation = µ.Formulation.finite_strain\n",
    "\n",
    "    cell = µ.Cell(resolution,\n",
    "                  lengths,\n",
    "                  formulation)\n",
    "    dim = len(lengths)\n",
    "\n",
    "    mat = µ.material.MaterialCrystalPlasticityFinite_2d_1slip.make(\n",
    "        cell, \"crystal\", bulk_m, shear_m, gamma_dot0, m_par, tau_y0, h0, delta_tau_y, a_par, q_n, dirs, norms, delta_t, tolerance=tolerance)\n",
    "\n",
    "    for pixel in cell:\n",
    "        mat.add_pixel(pixel, np.array([[0.]]))\n",
    "\n",
    "        cell.initialise()\n",
    "\n",
    "        tau = list()\n",
    "        sigma_xx=list()\n",
    "        gammas=list()\n",
    "        tau_inc = list()\n",
    "        gamma_dot = list()\n",
    "        shear_incr = 1.e-4\n",
    "        np_load = int(max_shear/shear_incr)\n",
    "        F = np.eye(2)\n",
    "\n",
    "        F[0,1] += max_shear\n",
    "        gammas.append(F[0,1])\n",
    "\n",
    "        stress = cell.evaluate_stress(F.T.reshape(-1))\n",
    "\n",
    "    def fun(F_vec):\n",
    "        stress = cell.evaluate_stress(F_vec)\n",
    "        return stress\n",
    "\n",
    "    return fun, F.T.reshape(-1)\n"
   ]
  },
  {
   "cell_type": "code",
   "execution_count": null,
   "metadata": {
    "autoscroll": false,
    "collapsed": false,
    "ein.hycell": false,
    "ein.tags": "worksheet-0",
    "slideshow": {
     "slide_type": "-"
    }
   },
   "outputs": [],
   "source": []
  }
 ],
 "metadata": {
  "kernelspec": {
   "display_name": "Python 3",
   "name": "python3"
  },
  "name": "stress_strain.ipynb"
 },
 "nbformat": 4,
 "nbformat_minor": 2
}
