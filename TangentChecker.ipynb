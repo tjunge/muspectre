{
 "cells": [
  {
   "cell_type": "code",
   "execution_count": null,
   "metadata": {
    "autoscroll": false,
    "ein.tags": "worksheet-0",
    "slideshow": {
     "slide_type": "-"
    }
   },
   "outputs": [],
   "source": [
    "import numpy as np\n",
    "import scipy.optimize as optimize\n",
    "\n",
    "\n",
    "def dimQb(x):\n",
    "    dim = len(x)\n",
    "    Q = np.diag(np.linspace(1, 3, dim))\n",
    "    Q[0,1] = 2\n",
    "    b = np.linspace(2, 4, dim)\n",
    "    return dim, Q, b\n",
    "\n",
    "\n",
    "def prim(x):\n",
    "    dim, Q, b = dimQb(x)\n",
    "    return .5 * x.dot(Q.dot(x)) + b.dot(x)\n",
    "\n",
    "def fun(x):\n",
    "    dim, Q, b = dimQb(x)\n",
    "    return np.einsum('ij,j->i', Q, x) + b\n",
    "    return Q.dot(x) + b\n",
    "\n",
    "def grad(x):\n",
    "    dim, Q, b = dimQb(x)\n",
    "    return Q\n",
    "\n",
    "print(*dimQb(np.array([.3, .3, .3, .3])), sep='\\n')"
   ]
  },
  {
   "cell_type": "code",
   "execution_count": null,
   "metadata": {
    "autoscroll": false,
    "ein.tags": "worksheet-0",
    "slideshow": {
     "slide_type": "-"
    }
   },
   "outputs": [],
   "source": [
    "def numerical_gradient(fun, x, delta):\n",
    "    dim = len(x)\n",
    "    grad = np.zeros([dim, dim])\n",
    "    for i in range(dim):\n",
    "        del_x = np.zeros_like(x)\n",
    "        del_x[i] += delta\n",
    "        del_f = (fun(x + del_x) - fun(x))/delta\n",
    "        ##print(i, del_x, del_f, fun(x + del_x), fun(x))\n",
    "        grad[:,i] = del_f\n",
    "        pass\n",
    "    return grad\n"
   ]
  },
  {
   "cell_type": "code",
   "execution_count": null,
   "metadata": {
    "autoscroll": false,
    "ein.tags": "worksheet-0",
    "slideshow": {
     "slide_type": "-"
    }
   },
   "outputs": [],
   "source": [
    "dim = 4\n",
    "x = np.array([1., 1., 1., 1.])#np.random.random(2)\n",
    "delta = 1e-2\n",
    "\n",
    "num_grad = numerical_gradient(fun, x, delta)\n",
    "analytic = grad(x)\n",
    "\n",
    "print(num_grad)\n",
    "print(analytic)\n",
    "print(np.linalg.norm(num_grad - analytic)/np.linalg.norm(analytic))"
   ]
  },
  {
   "cell_type": "code",
   "execution_count": null,
   "metadata": {
    "autoscroll": false,
    "ein.tags": "worksheet-0",
    "slideshow": {
     "slide_type": "-"
    }
   },
   "outputs": [],
   "source": [
    "for ("
   ]
  },
  {
   "cell_type": "code",
   "execution_count": null,
   "metadata": {},
   "outputs": [],
   "source": []
  }
 ],
 "metadata": {
  "kernelspec": {
   "display_name": "Python 3",
   "language": "python",
   "name": "python3"
  },
  "language_info": {
   "codemirror_mode": {
    "name": "ipython",
    "version": 3
   },
   "file_extension": ".py",
   "mimetype": "text/x-python",
   "name": "python",
   "nbconvert_exporter": "python",
   "pygments_lexer": "ipython3",
   "version": "3.6.5rc1"
  },
  "name": "TangentChecker.ipynb"
 },
 "nbformat": 4,
 "nbformat_minor": 2
}
