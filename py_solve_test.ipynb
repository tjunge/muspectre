{
 "cells": [
  {
   "cell_type": "code",
   "execution_count": null,
   "metadata": {
    "autoscroll": false,
    "collapsed": false,
    "ein.hycell": false,
    "ein.tags": "worksheet-0",
    "slideshow": {
     "slide_type": "-"
    }
   },
   "outputs": [],
   "source": [
    "import numpy as np\n",
    "import matplotlib.pyplot as plt\n",
    "%matplotlib inline\n",
    "import sys\n",
    "sys.path.append(\"./build-clang-5.0/language_bindings/python/\")\n",
    "#sys.path.append(\"./build-clang5/language_bindings/python/\")\n",
    "from numpy.linalg import norm\n",
    "import muSpectre as µ"
   ]
  },
  {
   "cell_type": "code",
   "execution_count": null,
   "metadata": {
    "autoscroll": false,
    "collapsed": false,
    "ein.hycell": false,
    "ein.tags": "worksheet-0",
    "slideshow": {
     "slide_type": "-"
    }
   },
   "outputs": [],
   "source": [
    "resolution = [51, 51]\n",
    "center = np.array([r//2 for r in resolution])\n",
    "incl = resolution[0]//5\n",
    "\n",
    "lengths = [7., 5.]\n",
    "formulation = µ.Formulation.small_strain\n",
    "\n",
    "rve = µ.Cell(resolution, lengths, formulation)\n",
    "hard = µ.material.MaterialLinearElastic1_2d.make(\n",
    "    rve, \"hard\", 10e9, .33)\n",
    "soft = µ.material.MaterialLinearElastic1_2d.make(\n",
    "    rve, \"soft\",  70e9, .33)\n",
    "\n",
    "\n",
    "for i, pixel in enumerate(rve):\n",
    "    if np.linalg.norm(center - np.array(pixel),2)<incl:\n",
    "    #if (abs(center - np.array(pixel)).max()<incl or\n",
    "    #    np.linalg.norm(center/2 - np.array(pixel))<incl):\n",
    "        hard.add_pixel(pixel)\n",
    "    else:\n",
    "        soft.add_pixel(pixel)\n",
    "\n",
    "tol = 1e-5\n",
    "cg_tol = 1e-8\n",
    "\n",
    "Del0 = np.array([[.0, .0],\n",
    "                 [0,  .03]])\n",
    "if formulation == µ.Formulation.small_strain:\n",
    "    Del0 = .5*(Del0 + Del0.T)\n",
    "maxiter = 401\n",
    "verbose = 2\n",
    "\n"
   ]
  },
  {
   "cell_type": "code",
   "execution_count": null,
   "metadata": {
    "autoscroll": false,
    "collapsed": false,
    "ein.hycell": false,
    "ein.tags": "worksheet-0",
    "slideshow": {
     "slide_type": "-"
    }
   },
   "outputs": [],
   "source": [
    "dir(rve)"
   ]
  },
  {
   "cell_type": "code",
   "execution_count": null,
   "metadata": {
    "autoscroll": false,
    "collapsed": false,
    "ein.hycell": false,
    "ein.tags": "worksheet-0",
    "slideshow": {
     "slide_type": "-"
    }
   },
   "outputs": [],
   "source": [
    "F = rve.get_strain()\n",
    "delF = np.zeros_like(F)\n",
    "P, K = rve.evaluate_stress_tangent(F)"
   ]
  },
  {
   "cell_type": "code",
   "execution_count": null,
   "metadata": {
    "autoscroll": false,
    "collapsed": false,
    "ein.hycell": false,
    "ein.tags": "worksheet-0",
    "slideshow": {
     "slide_type": "-"
    }
   },
   "outputs": [],
   "source": [
    "rve.project?"
   ]
  },
  {
   "cell_type": "code",
   "execution_count": null,
   "metadata": {
    "autoscroll": false,
    "collapsed": false,
    "ein.hycell": false,
    "ein.tags": "worksheet-0",
    "slideshow": {
     "slide_type": "-"
    }
   },
   "outputs": [],
   "source": [
    "rve.directional_stiffness(delF)"
   ]
  },
  {
   "cell_type": "code",
   "execution_count": null,
   "metadata": {
    "autoscroll": false,
    "collapsed": false,
    "ein.hycell": false,
    "ein.tags": "worksheet-0",
    "slideshow": {
     "slide_type": "-"
    }
   },
   "outputs": [],
   "source": []
  }
 ],
 "metadata": {
  "kernelspec": {
   "display_name": "Python 3",
   "name": "python3"
  },
  "name": "py_solve_test.ipynb"
 },
 "nbformat": 4,
 "nbformat_minor": 2
}
