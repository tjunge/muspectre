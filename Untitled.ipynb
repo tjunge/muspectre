{
 "cells": [
  {
   "cell_type": "code",
   "execution_count": 1,
   "metadata": {
    "autoscroll": false,
    "collapsed": false,
    "ein.tags": "worksheet-0",
    "slideshow": {
     "slide_type": "-"
    }
   },
   "outputs": [],
   "source": [
    "import numpy as np\n",
    "from numpy.linalg import det, inv\n",
    "from scipy.sparse.linalg import cg"
   ]
  },
  {
   "cell_type": "code",
   "execution_count": 2,
   "metadata": {
    "autoscroll": false,
    "collapsed": false,
    "ein.tags": "worksheet-0",
    "slideshow": {
     "slide_type": "-"
    }
   },
   "outputs": [
    {
     "data": {
      "text/plain": [
       "0.0"
      ]
     },
     "execution_count": 2,
     "metadata": {},
     "output_type": "execute_result"
    }
   ],
   "source": [
    "stiffness = np.matrix([[1.34766667, 0.         ,0.         ,0.57566667],\n",
    "                       [0.        , 0.386      ,0.386      ,0.        ],\n",
    "                       [0.        , 0.386      ,0.386      ,0.        ],\n",
    "                       [0.57566667, 0.         ,0.         ,1.34766667]])\n",
    "det(stiffness)\n"
   ]
  },
  {
   "cell_type": "code",
   "execution_count": 3,
   "metadata": {
    "autoscroll": false,
    "collapsed": false,
    "ein.tags": "worksheet-0",
    "slideshow": {
     "slide_type": "-"
    }
   },
   "outputs": [],
   "source": [
    "def to_voigt(mat):\n",
    "    order = [0, 3, 2, 1]\n",
    "    ret_mat = np.empty_like(mat)\n",
    "    for i in range(4):\n",
    "        for j in range(4):\n",
    "            ret_mat[i,j] = mat[order[i], order[j]]\n",
    "    return ret_mat\n"
   ]
  },
  {
   "cell_type": "code",
   "execution_count": 4,
   "metadata": {
    "autoscroll": false,
    "collapsed": false,
    "ein.tags": "worksheet-0",
    "slideshow": {
     "slide_type": "-"
    }
   },
   "outputs": [
    {
     "data": {
      "text/plain": [
       "0.5731379486532799"
      ]
     },
     "execution_count": 4,
     "metadata": {},
     "output_type": "execute_result"
    }
   ],
   "source": [
    "det(to_voigt(stiffness)[:3,:3])\n"
   ]
  },
  {
   "cell_type": "code",
   "execution_count": 5,
   "metadata": {
    "autoscroll": false,
    "collapsed": false,
    "ein.tags": "worksheet-0",
    "slideshow": {
     "slide_type": "-"
    }
   },
   "outputs": [
    {
     "data": {
      "text/plain": [
       "matrix([[ 0.90763373, -0.38770306,  0.        ],\n        [-0.38770306,  0.90763373,  0.        ],\n        [ 0.        ,  0.        ,  2.59067358]])"
      ]
     },
     "execution_count": 5,
     "metadata": {},
     "output_type": "execute_result"
    }
   ],
   "source": [
    "def cg_inv(mat):\n",
    "    I = np.eye(mat.shape[0])\n",
    "    sol = np.empty_like(mat)\n",
    "    for i in range(mat.shape[0]):\n",
    "        vec, err = cg(mat, I[:,i])\n",
    "\n",
    "        sol[:,i] = vec.reshape(-1,1)\n",
    "        pass\n",
    "    return sol\n",
    "\n",
    "cg_inv(to_voigt(stiffness)[:3,:3])"
   ]
  },
  {
   "cell_type": "code",
   "execution_count": 6,
   "metadata": {
    "autoscroll": false,
    "collapsed": false,
    "ein.tags": "worksheet-0",
    "slideshow": {
     "slide_type": "-"
    }
   },
   "outputs": [
    {
     "data": {
      "text/plain": [
       "matrix([[-2.22044605e-16,  0.00000000e+00,  0.00000000e+00,\n         -1.11022302e-16],\n        [ 0.00000000e+00, -5.00000000e-01,  5.00000000e-01,\n          0.00000000e+00],\n        [ 0.00000000e+00,  5.00000000e-01, -5.00000000e-01,\n          0.00000000e+00],\n        [-1.11022302e-16,  0.00000000e+00,  0.00000000e+00,\n          0.00000000e+00]])"
      ]
     },
     "execution_count": 6,
     "metadata": {},
     "output_type": "execute_result"
    }
   ],
   "source": [
    "np.linalg.norm(np.linalg.pinv(stiffness).dot(stiffness)-np.eye(4))\n",
    "(np.linalg.pinv(stiffness).dot(stiffness)-np.eye(4))\n",
    "\n"
   ]
  },
  {
   "cell_type": "code",
   "execution_count": null,
   "metadata": {
    "autoscroll": false,
    "collapsed": false,
    "ein.tags": "worksheet-0",
    "slideshow": {
     "slide_type": "-"
    }
   },
   "outputs": [],
   "source": []
  }
 ],
 "metadata": {
  "name": "Untitled.ipynb"
 },
 "nbformat": 4,
 "nbformat_minor": 2
}
